{
 "cells": [
  {
   "cell_type": "code",
   "execution_count": null,
   "metadata": {},
   "outputs": [],
   "source": [
    "import pandas as pd\n",
    "\n",
    "# Load the dataset into a DataFrame\n",
    "url = \"Laliga.csv\" \n",
    "# Replace with the actual URL or file path\n",
    "df = pd.read_csv(url)\n",
    "\n",
    "# Replace dashes with 0\n",
    "df.replace('-', 0, inplace=True)\n",
    "\n",
    "# Print teams that started playing between 1930-1980\n",
    "teams_between_1930_1980 = df[(df['Debut'] >= 1930) & (df['Debut'] <= 1980)]['Team']\n",
    "print(\"Teams that started between 1930-1980:\")\n",
    "print(teams_between_1930_1980)\n",
    "\n",
    "# Print top 5 teams in terms of points\n",
    "top_5_teams_points = df.sort_values(by='Points', ascending=False).head(5)['Team']\n",
    "print(\"\\nTop 5 teams in terms of points:\")\n",
    "print(top_5_teams_points)\n",
    "\n",
    "# Function for Goal Difference Count\n",
    "def Goal_diff_count(row):\n",
    "    return row['GoalsFor'] - row['GoalsAgainst']\n",
    "\n",
    "# Apply the function to each row\n",
    "df['GoalDifference'] = df.apply(Goal_diff_count, axis=1)\n",
    "\n",
    "# Team with Maximum and Minimum Goal Difference\n",
    "max_goal_diff_team = df.loc[df['GoalDifference'].idxmax()]['Team']\n",
    "min_goal_diff_team = df.loc[df['GoalDifference'].idxmin()]['Team']\n",
    "print(\"\\nTeam with Maximum Goal Difference:\", max_goal_diff_team)\n",
    "print(\"Team with Minimum Goal Difference:\", min_goal_diff_team)\n",
    "\n",
    "# Create and append Winning Percent column\n",
    "df['WinningPercent'] = (df['GamesWon'] / df['GamesPlayed']) * 100\n",
    "df['WinningPercent'].fillna(0, inplace=True)\n",
    "\n",
    "# Print top 5 teams with highest Winning Percentage\n",
    "top_5_win_percent_teams = df.sort_values(by='WinningPercent', ascending=False).head(5)['Team']\n",
    "print(\"\\nTop 5 teams with highest Winning Percentage:\")\n",
    "print(top_5_win_percent_teams)\n",
    "\n",
    "# Group teams based on Best Position and sum points\n",
    "position_points = df.groupby('BestPosition')['Points'].sum().reset_index()\n",
    "print(\"\\nGrouped teams based on Best Position and sum of points:\")\n",
    "print(position_points)\n"
   ]
  }
 ],
 "metadata": {
  "kernelspec": {
   "display_name": "Python 3",
   "language": "python",
   "name": "python3"
  },
  "language_info": {
   "codemirror_mode": {
    "name": "ipython",
    "version": 3
   },
   "file_extension": ".py",
   "mimetype": "text/x-python",
   "name": "python",
   "nbconvert_exporter": "python",
   "pygments_lexer": "ipython3",
   "version": "3.11.4"
  },
  "orig_nbformat": 4
 },
 "nbformat": 4,
 "nbformat_minor": 2
}
